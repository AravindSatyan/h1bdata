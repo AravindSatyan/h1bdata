{
 "cells": [
  {
   "cell_type": "code",
   "execution_count": 1,
   "metadata": {},
   "outputs": [],
   "source": [
    "import requests, re, pandas as pd\n",
    "from bs4 import BeautifulSoup\n",
    "\n",
    "url='https://www.dol.gov/agencies/eta/foreign-labor/performance'\n",
    "\n",
    "r=requests.get(url)\n",
    "soup=BeautifulSoup(r.content,'html.parser')\n",
    "res=soup.select('table.cust_table')\n",
    "final_links=[]\n",
    "keywords=['Appendix', 'Worksites', 'Icert']\n",
    "for i in res:\n",
    "    if i.get('summary') == 'LCA Programs (H-1B, H-1B1, E-3)':\n",
    "        i= i.find_all('a')\n",
    "        for j in i:\n",
    "            j=j.get('href')\n",
    "            # final_links.append(j)\n",
    "            excel_sheet = re.search('.xlsx',j)\n",
    "            key_search = re.search(\"|\".join(re.escape(word) for word in keywords), j)\n",
    "            if  excel_sheet is not None and key_search is None :\n",
    "                final_links.append(j)\n",
    "# for i in final_links:\n",
    "#     sample = requests.get(f'https://www.dol.gov{i}')\n",
    "#     check = re.search(r'pdfs\\/(.*)',i)\n",
    "#     checked = check.group().replace('pdfs/','')\n",
    "#     with open(f'data-scraped_files_raw/{checked}', mode='wb') as file:\n",
    "#         file.write(sample.content)\n",
    "#     df=pd.read_excel(f'data-scraped_files_raw/{checked}')\n",
    "#     df.to_json(f'data-scraped_files_json/{checked}.json', orient='records')\n",
    "#     break\n",
    "\n"
   ]
  },
  {
   "cell_type": "code",
   "execution_count": 6,
   "metadata": {},
   "outputs": [
    {
     "name": "stdout",
     "output_type": "stream",
     "text": [
      "0\n",
      "1\n"
     ]
    }
   ],
   "source": [
    "import pandas as pd\n",
    "\n",
    "\n",
    "for i, j in enumerate(final_links):\n",
    "    sample = requests.get(f'https://www.dol.gov{i}')\n",
    "    check = re.search(r'pdfs\\/(.*)',i)\n",
    "    checked = check.group().replace('pdfs/','')\n",
    "    with open(f'data-scraped_files_raw/{checked}', mode='wb') as file:\n",
    "        file.write(sample.content)\n",
    "    df=pd.read_excel(f'data-scraped_files_raw/{checked}')\n",
    "    df.to_json(f'data-scraped_files_json/{checked}.json', orient='records')\n",
    "\n",
    "    if i==1:\n",
    "        break"
   ]
  }
 ],
 "metadata": {
  "kernelspec": {
   "display_name": ".venv",
   "language": "python",
   "name": "python3"
  },
  "language_info": {
   "codemirror_mode": {
    "name": "ipython",
    "version": 3
   },
   "file_extension": ".py",
   "mimetype": "text/x-python",
   "name": "python",
   "nbconvert_exporter": "python",
   "pygments_lexer": "ipython3",
   "version": "3.11.7"
  }
 },
 "nbformat": 4,
 "nbformat_minor": 2
}
