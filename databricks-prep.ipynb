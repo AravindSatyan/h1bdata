{
 "cells": [
  {
   "cell_type": "code",
   "execution_count": null,
   "metadata": {},
   "outputs": [],
   "source": [
    "import requests, re, pandas as pd\n",
    "from bs4 import BeautifulSoup\n",
    "\n",
    "def get_data():\n",
    "    url='https://www.dol.gov/agencies/eta/foreign-labor/performance'\n",
    "    r=requests.get(url)\n",
    "    soup=BeautifulSoup(r.content,'html.parser')\n",
    "    res=soup.select('table.cust_table')\n",
    "    final_links=[]\n",
    "    keywords=['Appendix', 'Worksites', 'Icert']\n",
    "    for i in res:\n",
    "        if i.get('summary') == 'LCA Programs (H-1B, H-1B1, E-3)':\n",
    "            i= i.find_all('a')\n",
    "            for j in i:\n",
    "                j=j.get('href')\n",
    "                # final_links.append(j)\n",
    "                excel_sheet = re.search('.xlsx',j)\n",
    "                key_search = re.search(\"|\".join(re.escape(word) for word in keywords), j)\n",
    "                if  excel_sheet is not None and key_search is None :\n",
    "                    final_links.append(j)\n",
    "    return final_links\n",
    "\n",
    "\n",
    "def download_all_excel_files(final_links):\n",
    "# URL of the Excel file\n",
    "    for i in final_links:\n",
    "        url = f'https://www.dol.gov{i}'\n",
    "        response = requests.get(url)\n",
    "        check = re.search(r'pdfs\\/(.*)',i)\n",
    "        checked = check.group().replace('pdfs/','')   \n",
    "        # dbutils.fs.put(f'/mnt/files/dol-support-files/{checked}','')       \n",
    "        if response.status_code == 200:\n",
    "            with open(f'/dbfs/mnt/files/dol-support-files/{checked}', 'wb') as excel_file:\n",
    "                excel_file.write(response.content)\n",
    "            display(len(dbutils.fs.ls('/mnt/files/dol-support-files/')))\n",
    "        else:\n",
    "            print(\"Failed to download the file. Status code:\", response.status_code, 'for file ', checked)\n",
    "        # break\n",
    "\n",
    "final_links = get_data()\n",
    "result = download_all_excel_files(final_links)\n"
   ]
  }
 ],
 "metadata": {
  "language_info": {
   "name": "python"
  }
 },
 "nbformat": 4,
 "nbformat_minor": 2
}
